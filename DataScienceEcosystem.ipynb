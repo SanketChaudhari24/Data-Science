{
 "cells": [
  {
   "cell_type": "markdown",
   "id": "ac1b42a0",
   "metadata": {},
   "source": [
    "# Data Science Tools and Ecosystem"
   ]
  },
  {
   "cell_type": "markdown",
   "id": "e38ad631",
   "metadata": {},
   "source": [
    "In this notebook, Data Science Tools Ecosystem are summarized"
   ]
  },
  {
   "cell_type": "markdown",
   "id": "2bb118a9",
   "metadata": {},
   "source": [
    "Some of the popular languages that data scientist use are:\n",
    "1. R\n",
    "2. SQL\n",
    "3. C++\n",
    "4. Python\n",
    "5. Java"
   ]
  },
  {
   "cell_type": "markdown",
   "id": "3b881f10",
   "metadata": {},
   "source": [
    "Some of the populary used data science libraries are:\n",
    "1. TensorFlow\n",
    "2. Numpy\n",
    "3. Pandas\n",
    "4. Matplotlib\n",
    "5. Pytorch"
   ]
  },
  {
   "cell_type": "markdown",
   "id": "38270e2d",
   "metadata": {},
   "source": [
    "|Data Science Tools|\n",
    "|---|\n",
    "|SAS|\n",
    "|Apache Hadoop|\n",
    "|Tensorflow|"
   ]
  },
  {
   "cell_type": "markdown",
   "id": "4e4bf1e7",
   "metadata": {},
   "source": [
    "### Below are a few examples of evaluating arithmetic expressions in Python"
   ]
  },
  {
   "cell_type": "code",
   "execution_count": 5,
   "id": "c089a7d8",
   "metadata": {},
   "outputs": [
    {
     "data": {
      "text/plain": [
       "24"
      ]
     },
     "execution_count": 5,
     "metadata": {},
     "output_type": "execute_result"
    }
   ],
   "source": [
    "(4*5)+7-3"
   ]
  },
  {
   "cell_type": "code",
   "execution_count": 3,
   "id": "a8c9ec5e",
   "metadata": {},
   "outputs": [
    {
     "data": {
      "text/plain": [
       "26"
      ]
     },
     "execution_count": 3,
     "metadata": {},
     "output_type": "execute_result"
    }
   ],
   "source": [
    "#This a simple arithmetic expression to mutiply then add integers\n",
    "(3*7)+5"
   ]
  },
  {
   "cell_type": "code",
   "execution_count": 4,
   "id": "a35039c7",
   "metadata": {},
   "outputs": [
    {
     "data": {
      "text/plain": [
       "3.3333333333333335"
      ]
     },
     "execution_count": 4,
     "metadata": {},
     "output_type": "execute_result"
    }
   ],
   "source": [
    "#Minutes into Hours(converts 200 min into hrs)\n",
    "200/60"
   ]
  },
  {
   "cell_type": "markdown",
   "id": "53b8f992",
   "metadata": {},
   "source": [
    "__Objective__\n",
    "\n",
    "*List popular library for Data Science\n",
    "*List popular languages for Data Science\n",
    "*list Data Science Tools"
   ]
  },
  {
   "cell_type": "markdown",
   "id": "2aa208a6",
   "metadata": {},
   "source": [
    "## Author\n",
    "Sanket Chaudhari"
   ]
  },
  {
   "cell_type": "code",
   "execution_count": null,
   "id": "7b8247d1",
   "metadata": {},
   "outputs": [],
   "source": []
  }
 ],
 "metadata": {
  "kernelspec": {
   "display_name": "Python 3 (ipykernel)",
   "language": "python",
   "name": "python3"
  },
  "language_info": {
   "codemirror_mode": {
    "name": "ipython",
    "version": 3
   },
   "file_extension": ".py",
   "mimetype": "text/x-python",
   "name": "python",
   "nbconvert_exporter": "python",
   "pygments_lexer": "ipython3",
   "version": "3.9.12"
  }
 },
 "nbformat": 4,
 "nbformat_minor": 5
}
